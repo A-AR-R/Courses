{
 "cells": [
  {
   "cell_type": "code",
   "execution_count": 1,
   "metadata": {},
   "outputs": [],
   "source": [
    "###########################################################################\n",
    "# Example code for running a CNN on MNIST\n",
    "# Adapted from: https://github.com/yunjey/pytorch-tutorial\n",
    "###########################################################################\n",
    "\n",
    "import torch, numpy as np, os\n",
    "import torch.nn as nn\n",
    "import torchvision.datasets as dsets\n",
    "import torchvision.transforms as transforms\n",
    "from torch.autograd import Variable\n",
    "\n",
    "# Hyper Parameters\n",
    "num_epochs = 5\n",
    "batch_size = 100\n",
    "learning_rate = 0.001\n",
    "# MNIST Dataset\n",
    "train_dataset = dsets.MNIST(root='./data/',\n",
    "                            train=True, \n",
    "                            transform=transforms.ToTensor(),\n",
    "                            download=True)\n",
    "test_dataset = dsets.MNIST(root='./data/',\n",
    "                           train=False, \n",
    "                           transform=transforms.ToTensor())\n",
    "# Data Loader (Input Pipeline)\n",
    "train_loader = torch.utils.data.DataLoader(dataset=train_dataset,\n",
    "                                           batch_size=batch_size, \n",
    "                                           shuffle=True)\n",
    "test_loader = torch.utils.data.DataLoader(dataset=test_dataset,\n",
    "                                          batch_size=batch_size, \n",
    "                                          shuffle=False)"
   ]
  },
  {
   "cell_type": "code",
   "execution_count": 2,
   "metadata": {
    "collapsed": true
   },
   "outputs": [],
   "source": [
    "# CNN Model (2 conv layer)\n",
    "class CNN(nn.Module):\n",
    "    def __init__(self):\n",
    "        super(CNN, self).__init__()\n",
    "        # Transforms a 1-channel image to 16 channels, using 5x5 kernels\n",
    "        # Output is equivalent to a 16 channel image, of half the size 14x14 (due to max pooling)\n",
    "        self.layer1 = nn.Sequential(\n",
    "            nn.Conv2d(1, 16, kernel_size=5, padding=2),\n",
    "            # Batchnorm approximately normalizes input to zero-mean & unit-variance\n",
    "            # Keeps running values for mean and variance\n",
    "            # Also linearly transforms the output with learnable params\n",
    "            nn.BatchNorm2d(16),\n",
    "            # ReLU non-linearity\n",
    "            nn.ReLU(),\n",
    "            # Max pooling (shrinks output by 1/2, to 14x14)\n",
    "            nn.MaxPool2d(2))\n",
    "        \n",
    "        # Equivalent to transforming from 16 to 32 layers\n",
    "        self.layer2 = nn.Sequential(\n",
    "            nn.Conv2d(16, 32, kernel_size=5, padding=2),\n",
    "            nn.BatchNorm2d(32),\n",
    "            nn.ReLU(),\n",
    "            # Shrink to 7x7\n",
    "            nn.MaxPool2d(2))\n",
    "        # Input: equivalent of a 7x7 image with 32 channels (32 feature maps)\n",
    "        # Output: 10 units for 10 digit classes\n",
    "        self.fc = nn.Linear(7*7*32, 10)\n",
    "    # Define the forward pass\n",
    "    def forward(self, x):\n",
    "        out = self.layer1(x)\n",
    "        out = self.layer2(out)\n",
    "        out = out.view(out.size(0), -1)\n",
    "        out = self.fc(out)\n",
    "        return out\n",
    "    "
   ]
  },
  {
   "cell_type": "code",
   "execution_count": 3,
   "metadata": {
    "collapsed": true
   },
   "outputs": [],
   "source": [
    "# Instantiate net\n",
    "cnn = CNN()"
   ]
  },
  {
   "cell_type": "code",
   "execution_count": 4,
   "metadata": {},
   "outputs": [
    {
     "name": "stdout",
     "output_type": "stream",
     "text": [
      "Epoch [1/5], Iter [100/600] Loss: 0.1380\n",
      "Epoch [1/5], Iter [200/600] Loss: 0.0631\n",
      "Epoch [1/5], Iter [300/600] Loss: 0.1274\n",
      "Epoch [1/5], Iter [400/600] Loss: 0.0566\n",
      "Epoch [1/5], Iter [500/600] Loss: 0.0676\n",
      "Epoch [1/5], Iter [600/600] Loss: 0.0444\n",
      "Epoch [2/5], Iter [100/600] Loss: 0.0297\n",
      "Epoch [2/5], Iter [200/600] Loss: 0.0116\n",
      "Epoch [2/5], Iter [300/600] Loss: 0.0182\n",
      "Epoch [2/5], Iter [400/600] Loss: 0.0362\n",
      "Epoch [2/5], Iter [500/600] Loss: 0.0172\n",
      "Epoch [2/5], Iter [600/600] Loss: 0.0445\n",
      "Epoch [3/5], Iter [100/600] Loss: 0.0685\n",
      "Epoch [3/5], Iter [200/600] Loss: 0.0126\n",
      "Epoch [3/5], Iter [300/600] Loss: 0.0225\n",
      "Epoch [3/5], Iter [400/600] Loss: 0.0145\n",
      "Epoch [3/5], Iter [500/600] Loss: 0.0204\n",
      "Epoch [3/5], Iter [600/600] Loss: 0.0203\n",
      "Epoch [4/5], Iter [100/600] Loss: 0.0330\n",
      "Epoch [4/5], Iter [200/600] Loss: 0.0323\n",
      "Epoch [4/5], Iter [300/600] Loss: 0.0103\n",
      "Epoch [4/5], Iter [400/600] Loss: 0.0092\n",
      "Epoch [4/5], Iter [500/600] Loss: 0.2364\n",
      "Epoch [4/5], Iter [600/600] Loss: 0.0029\n",
      "Epoch [5/5], Iter [100/600] Loss: 0.0170\n",
      "Epoch [5/5], Iter [200/600] Loss: 0.0122\n",
      "Epoch [5/5], Iter [300/600] Loss: 0.0023\n",
      "Epoch [5/5], Iter [400/600] Loss: 0.0306\n",
      "Epoch [5/5], Iter [500/600] Loss: 0.0689\n",
      "Epoch [5/5], Iter [600/600] Loss: 0.0054\n"
     ]
    }
   ],
   "source": [
    "# Load trained model\n",
    "modelFilename = 'mnist-cnn.model'\n",
    "if os.path.exists(modelFilename):\n",
    "    cnn.load_state_dict(torch.load(modelFilename))\n",
    "# Or train from scratch\n",
    "else: \n",
    "    # Loss and Optimizer\n",
    "    criterion = nn.CrossEntropyLoss()\n",
    "    optimizer = torch.optim.Adam(cnn.parameters(), lr=learning_rate)\n",
    "    # Train the Model\n",
    "    for epoch in range(num_epochs):\n",
    "        for i, (images, labels) in enumerate(train_loader):\n",
    "            images = Variable(images)\n",
    "            labels = Variable(labels)\n",
    "            # Forward + Backward + Optimize\n",
    "            optimizer.zero_grad() # Clear stored gradients\n",
    "            outputs = cnn(images) # CNN forward pass\n",
    "            loss = criterion(outputs, labels) # Calculate error\n",
    "            loss.backward() # Compute gradients\n",
    "            optimizer.step() # Update weights\n",
    "            if (i+1) % 100 == 0:\n",
    "                print ('Epoch [%d/%d], Iter [%d/%d] Loss: %.4f' \n",
    "                       %(epoch+1, num_epochs, i+1, len(train_dataset)//batch_size, loss.data[0]))"
   ]
  },
  {
   "cell_type": "code",
   "execution_count": 6,
   "metadata": {
    "collapsed": true
   },
   "outputs": [],
   "source": [
    "# Save the Trained Model\n",
    "if not os.path.exists(modelFilename):\n",
    "    torch.save(cnn.state_dict(), modelFilename)"
   ]
  },
  {
   "cell_type": "code",
   "execution_count": 7,
   "metadata": {},
   "outputs": [
    {
     "name": "stdout",
     "output_type": "stream",
     "text": [
      "Test Accuracy (10000 test images): 99 %\n"
     ]
    }
   ],
   "source": [
    "### Test the Model ###\n",
    "# Change model to 'eval' mode\n",
    "# This affects the batch normalization layer, so that it uses the mean/variance obtained in training\n",
    "cnn.eval()  \n",
    "# Compute accuracy\n",
    "correct = 0\n",
    "total = 0\n",
    "for images, labels in test_loader:\n",
    "    images = Variable(images)\n",
    "    outputs = cnn(images)\n",
    "    _, predicted = torch.max(outputs.data, 1)\n",
    "    total += labels.size(0)\n",
    "    correct += (predicted == labels).sum()\n",
    "print('Test Accuracy (10000 test images): %d %%' % (100 * correct / total))"
   ]
  },
  {
   "cell_type": "code",
   "execution_count": 8,
   "metadata": {},
   "outputs": [
    {
     "name": "stdout",
     "output_type": "stream",
     "text": [
      "Input image\n",
      "torch.Size([1, 1, 28, 28])\n"
     ]
    },
    {
     "data": {
      "image/png": "[encoded data removed]",
      "text/plain": [
       "<matplotlib.figure.Figure at 0x119aec780>"
      ]
     },
     "metadata": {},
     "output_type": "display_data"
    },
    {
     "name": "stdout",
     "output_type": "stream",
     "text": [
      "Image after layer 1\n",
      "torch.Size([1, 16, 14, 14])\n"
     ]
    },
    {
     "data": {
      "image/png": "[encoded data removed]",
      "text/plain": [
       "<matplotlib.figure.Figure at 0x109793ac8>"
      ]
     },
     "metadata": {},
     "output_type": "display_data"
    },
    {
     "name": "stdout",
     "output_type": "stream",
     "text": [
      "Image after layer 2\n",
      "torch.Size([1, 32, 7, 7])\n"
     ]
    },
    {
     "data": {
      "image/png": "[encoded data removed]",
      "text/plain": [
       "<matplotlib.figure.Figure at 0x11ab6b908>"
      ]
     },
     "metadata": {},
     "output_type": "display_data"
    }
   ],
   "source": [
    "### Let's visualize a training image through the convolution layers ###\n",
    "import matplotlib.pyplot as plt\n",
    "# Read in a training image \n",
    "trainIter = iter(train_loader) \n",
    "images, labels = trainIter.next() \n",
    "img = torch.unsqueeze(Variable(images[0]), 0)\n",
    "fig, ax = plt.subplots()\n",
    "ax.imshow(img.data.numpy().reshape((28,28)), cmap = plt.cm.gray)\n",
    "print('Input image')\n",
    "print(img.shape) # 1 image, 1 channel, WxH = 28x28\n",
    "plt.show()\n",
    "img_after_layer1 = cnn.layer1(img)\n",
    "print('Image after layer 1')\n",
    "print(img_after_layer1.shape) # 1 image, 16 channels, WxH = 14x14\n",
    "nChannels = img_after_layer1.data.shape[1]\n",
    "f, axarr = plt.subplots(4, 4, figsize=(8,8))\n",
    "for i in range(16):\n",
    "    axarr[i//4,i%4].imshow(img_after_layer1.data[0,i,:,:].numpy().reshape((14,14)),\n",
    "                           cmap = plt.cm.gray, interpolation='nearest', aspect='equal')\n",
    "for ax in axarr.flatten():\n",
    "    ax.set_xticks([])\n",
    "    ax.set_yticks([])\n",
    "plt.show()\n",
    "print('Image after layer 2')\n",
    "img_after_layer2 = cnn.layer2(img_after_layer1)\n",
    "print(img_after_layer2.shape) # 1 image, 32 channel, WxH = 7x7\n",
    "f2, axarr2 = plt.subplots(4, 8, figsize=(10,4))\n",
    "for i in range(32):\n",
    "    axarr2[i//8,i%8].imshow(img_after_layer2.data[0,i,:,:].numpy().reshape((7,7)),\n",
    "                            cmap = plt.cm.gray, interpolation='nearest', aspect='equal')\n",
    "for ax in axarr2.flatten():\n",
    "    ax.set_xticks([])\n",
    "    ax.set_yticks([])\n",
    "plt.show()\n"
   ]
  },
  {
   "cell_type": "code",
   "execution_count": 9,
   "metadata": {},
   "outputs": [
    {
     "ename": "ModuleNotFoundError",
     "evalue": "No module named 'sklearn'",
     "output_type": "error",
     "traceback": [
      "\u001b[0;31m---------------------------------------------------------------------------\u001b[0m",
      "\u001b[0;31mModuleNotFoundError\u001b[0m                       Traceback (most recent call last)",
      "\u001b[0;32m<ipython-input-9-83353dc32671>\u001b[0m in \u001b[0;36m<module>\u001b[0;34m()\u001b[0m\n\u001b[1;32m     16\u001b[0m \u001b[0;31m# Plot tsne clustering based on conv layer outputs, with labels of correct answer\u001b[0m\u001b[0;34m\u001b[0m\u001b[0;34m\u001b[0m\u001b[0m\n\u001b[1;32m     17\u001b[0m \u001b[0;32mfrom\u001b[0m \u001b[0mmatplotlib\u001b[0m \u001b[0;32mimport\u001b[0m \u001b[0mcm\u001b[0m\u001b[0;34m\u001b[0m\u001b[0m\n\u001b[0;32m---> 18\u001b[0;31m \u001b[0;32mfrom\u001b[0m \u001b[0msklearn\u001b[0m\u001b[0;34m.\u001b[0m\u001b[0mmanifold\u001b[0m \u001b[0;32mimport\u001b[0m \u001b[0mTSNE\u001b[0m\u001b[0;34m\u001b[0m\u001b[0m\n\u001b[0m\u001b[1;32m     19\u001b[0m \u001b[0;32mdef\u001b[0m \u001b[0mplot_with_labels\u001b[0m\u001b[0;34m(\u001b[0m\u001b[0mlowDWeights\u001b[0m\u001b[0;34m,\u001b[0m \u001b[0mlabels\u001b[0m\u001b[0;34m)\u001b[0m\u001b[0;34m:\u001b[0m\u001b[0;34m\u001b[0m\u001b[0m\n\u001b[1;32m     20\u001b[0m     \u001b[0mplt\u001b[0m\u001b[0;34m.\u001b[0m\u001b[0mcla\u001b[0m\u001b[0;34m(\u001b[0m\u001b[0;34m)\u001b[0m \u001b[0;31m# Clear current axis\u001b[0m\u001b[0;34m\u001b[0m\u001b[0m\n",
      "\u001b[0;31mModuleNotFoundError\u001b[0m: No module named 'sklearn'"
     ]
    }
   ],
   "source": [
    "###########################################################################\n",
    "# Visualize labels clustering based on output from con via tsne\n",
    "# Note: requires sklearn\n",
    "# Adapted from: https://github.com/MorvanZhou/PyTorch-Tutorial/blob/master/tutorial-contents/401_CNN.py\n",
    "###########################################################################\n",
    "# Grab some test data\n",
    "plot_only = 200\n",
    "test_x = Variable( torch.unsqueeze(test_dataset.test_data,1).type(torch.FloatTensor) )[:plot_only]\n",
    "test_y = test_dataset.test_labels[:plot_only]\n",
    "# Define a partial forward pass, which returns the representation before the fully connected layer is run\n",
    "def forwardInclPreFinal(x):\n",
    "    out = cnn.layer2(cnn.layer1(x))\n",
    "    outv = out.view(out.size(0), -1)\n",
    "    return outv\n",
    "before_last_layer = forwardInclPreFinal(test_x)\n",
    "# Plot tsne clustering based on conv layer outputs, with labels of correct answer\n",
    "from matplotlib import cm\n",
    "from sklearn.manifold import TSNE\n",
    "def plot_with_labels(lowDWeights, labels):\n",
    "    plt.cla() # Clear current axis\n",
    "    X, Y = lowDWeights[:, 0], lowDWeights[:, 1]\n",
    "    for x, y, s in zip(X, Y, labels):\n",
    "        c = cm.rainbow(int(255 * s / 9)); plt.text(x, y, s, backgroundcolor=c, fontsize=9)\n",
    "    plt.xlim(X.min(), X.max()) \n",
    "    plt.ylim(Y.min(), Y.max())\n",
    "    plt.show()\n",
    "tsne = TSNE(perplexity=30, n_components=2, init='pca', n_iter=5000)\n",
    "low_dim_embs = tsne.fit_transform( before_last_layer.data.numpy()[:plot_only, :])\n",
    "labels = test_dataset.test_labels.numpy()[:plot_only]\n",
    "plot_with_labels(low_dim_embs, labels)"
   ]
  },
  {
   "cell_type": "code",
   "execution_count": null,
   "metadata": {
    "collapsed": true
   },
   "outputs": [],
   "source": []
  }
 ],
 "metadata": {
  "kernelspec": {
   "display_name": "Python 3",
   "language": "python",
   "name": "python3"
  },
  "language_info": {
   "codemirror_mode": {
    "name": "ipython",
    "version": 3
   },
   "file_extension": ".py",
   "mimetype": "text/x-python",
   "name": "python",
   "nbconvert_exporter": "python",
   "pygments_lexer": "ipython3",
   "version": "3.6.1"
  }
 },
 "nbformat": 4,
 "nbformat_minor": 2
}
