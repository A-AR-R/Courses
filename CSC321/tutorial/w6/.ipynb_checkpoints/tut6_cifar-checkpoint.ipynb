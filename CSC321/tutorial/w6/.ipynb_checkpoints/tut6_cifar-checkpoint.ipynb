{
 "cells": [
  {
   "cell_type": "code",
   "execution_count": 1,
   "metadata": {},
   "outputs": [
    {
     "name": "stdout",
     "output_type": "stream",
     "text": [
      "Downloading https://www.cs.toronto.edu/~kriz/cifar-10-python.tar.gz to ./data/cifar-10-python.tar.gz\n",
      "Files already downloaded and verified\n"
     ]
    }
   ],
   "source": [
    "###########################################################################\n",
    "# An example of an object classification/categorization system\n",
    "# using a CNN on color images from the dataset CIFAR-10.\n",
    "# Adapted from the PyTorch Tutorials, \"Training a Classifier\"\n",
    "###########################################################################\n",
    "\n",
    "import torch, torchvision\n",
    "import torchvision.transforms as transforms\n",
    "\n",
    "# The output of torchvision datasets are PILImage images of range [0, 1].\n",
    "# Transform them to Tensors of normalized range [-1, 1]\n",
    "transform = transforms.Compose(\n",
    "    [transforms.ToTensor(),\n",
    "     transforms.Normalize((0.5, 0.5, 0.5), (0.5, 0.5, 0.5))])\n",
    "# Classes of images\n",
    "classes = ('plane', 'car', 'bird', 'cat', 'deer', 'dog', 'frog', 'horse', 'ship', 'truck')\n",
    "# Read in the training & testing data\n",
    "iterBatchSize = 5\n",
    "trainset = torchvision.datasets.CIFAR10(root='./data', train=True, download=True, transform=transform)\n",
    "trainloader = torch.utils.data.DataLoader(trainset, batch_size=iterBatchSize, shuffle=True, num_workers=2)\n",
    "testset = torchvision.datasets.CIFAR10(root='./data', train=False, download=True, transform=transform)\n",
    "testloader = torch.utils.data.DataLoader(testset, batch_size=iterBatchSize, shuffle=False, num_workers=2)"
   ]
  },
  {
   "cell_type": "code",
   "execution_count": 2,
   "metadata": {},
   "outputs": [
    {
     "data": {
      "image/png": "[encoded data removed]",
      "text/plain": [
       "<matplotlib.figure.Figure at 0x11dc84630>"
      ]
     },
     "metadata": {},
     "output_type": "display_data"
    },
    {
     "name": "stdout",
     "output_type": "stream",
     "text": [
      "deer, dog, plane, plane, ship\n"
     ]
    }
   ],
   "source": [
    "# What does the training data look like?\n",
    "import matplotlib.pyplot as plt\n",
    "import numpy as np\n",
    "# Functions to show an image\n",
    "def imshow(img):\n",
    "    img = img / 2 + 0.5  # unnormalize\n",
    "    plt.imshow( np.transpose(img.numpy(), (1, 2, 0)) )\n",
    "# Let's look at some example training images\n",
    "dataiter = iter(trainloader) # For training images\n",
    "testdataiter = iter(testloader) # For testing images (used later)\n",
    "images, labels = dataiter.next() # Ask the iterator for some images\n",
    "# Show images and labels\n",
    "imshow(torchvision.utils.make_grid(images))\n",
    "plt.show()\n",
    "print(', '.join('%s' % classes[labels[j]] for j in range(iterBatchSize)))"
   ]
  },
  {
   "cell_type": "code",
   "execution_count": 3,
   "metadata": {
    "collapsed": true
   },
   "outputs": [],
   "source": [
    "# Now we can define our model\n",
    "\n",
    "from torch.autograd import Variable\n",
    "import torch.nn as nn\n",
    "import torch.nn.functional as F\n",
    "\n",
    "# Define a small CNN that processes 3-channel images\n",
    "class Net(nn.Module):\n",
    "    # Initialize our layers, i.e. the set of trainable parameters\n",
    "    def __init__(self):\n",
    "        super(Net, self).__init__()\n",
    "        # A convolutional layer\n",
    "        # The number of input channels is 3 this time (rgb)\n",
    "        self.conv1 = nn.Conv2d(3, 6, 5)\n",
    "        # A max pooling layer (will be reused for each conv layer)\n",
    "        self.pool = nn.MaxPool2d(2, 2)\n",
    "        # Another convolutional layer\n",
    "        self.conv2 = nn.Conv2d(6, 16, 5)\n",
    "        # Three sets of fully connected (linear) layers \n",
    "        self.fc1 = nn.Linear(16 * 5 * 5, 120)\n",
    "        self.fc2 = nn.Linear(120, 84)\n",
    "        self.fc3 = nn.Linear(84, 10)\n",
    "\n",
    "    def forward(self, x):\n",
    "        # For each conv layer: conv -> relu -> pooling\n",
    "        x = self.pool(F.relu(self.conv1(x)))\n",
    "        x = self.pool(F.relu(self.conv2(x)))\n",
    "        # Reshape from higher dimensional tensor to a vector for the FC layers\n",
    "        x = x.view(-1, 16 * 5 * 5)\n",
    "        # Pass through fully connected layers\n",
    "        x = F.relu(self.fc1(x))\n",
    "        x = F.relu(self.fc2(x))\n",
    "        x = self.fc3(x)\n",
    "        return x\n",
    "\n",
    "model_saved_name = 'cifar10-net.model'\n",
    "net = Net()"
   ]
  },
  {
   "cell_type": "code",
   "execution_count": 4,
   "metadata": {},
   "outputs": [
    {
     "name": "stdout",
     "output_type": "stream",
     "text": [
      "odict_keys(['conv1.weight', 'conv1.bias', 'conv2.weight', 'conv2.bias', 'fc1.weight', 'fc1.bias', 'fc2.weight', 'fc2.bias', 'fc3.weight', 'fc3.bias'])\n",
      "Conv1: torch.Size([6, 3, 5, 5])\n",
      "Conv2: torch.Size([16, 6, 5, 5])\n",
      "Variable containing:\n",
      "(0 ,.,.) = \n",
      "  0.0006  0.0618  0.0449 -0.0065 -0.0367\n",
      "  0.0199  0.0994 -0.0184 -0.0548  0.0764\n",
      " -0.0111 -0.1152  0.0973 -0.0977  0.1135\n",
      "  0.0726 -0.0928  0.1021 -0.0513  0.1106\n",
      " -0.1086  0.0913  0.0039  0.1137 -0.0802\n",
      "\n",
      "(1 ,.,.) = \n",
      " -0.0980  0.0820  0.0805  0.0162 -0.0477\n",
      " -0.0786 -0.0734  0.0144  0.0678 -0.0222\n",
      " -0.0115  0.0804  0.1037  0.1008 -0.0568\n",
      "  0.0551  0.0175 -0.0678  0.0239 -0.0885\n",
      "  0.0254 -0.0368 -0.0626 -0.0053  0.0016\n",
      "\n",
      "(2 ,.,.) = \n",
      "  0.0434  0.0238 -0.0212 -0.0380  0.1020\n",
      " -0.0742 -0.0042 -0.0158 -0.0870 -0.0769\n",
      " -0.0592 -0.0213 -0.0796 -0.0744  0.0157\n",
      "  0.0043 -0.0164 -0.0829  0.1055 -0.0384\n",
      "  0.0092  0.0629  0.0580  0.0517 -0.1028\n",
      "[torch.FloatTensor of size 3x5x5]\n",
      "\n",
      "torch.Size([16, 6, 5, 5])\n",
      "Variable containing:\n",
      "(0 ,.,.) = \n",
      "1.00000e-02 *\n",
      "   7.5532 -4.8406 -2.6512 -4.1645  0.9333\n",
      "  -6.3828 -4.8895 -6.0988 -7.9726  6.1139\n",
      "  -7.9613  3.4411 -3.8432 -7.3781 -7.9557\n",
      "   2.4681 -3.9723  7.7612  2.4450 -0.3173\n",
      "   4.3452  5.9981  3.5864 -6.7546  5.2046\n",
      "\n",
      "(1 ,.,.) = \n",
      "1.00000e-02 *\n",
      "   0.6143 -3.2024 -3.1780  7.9941  5.5434\n",
      "   4.8704 -8.1552 -0.0341 -0.2428 -6.0695\n",
      "  -5.4681  1.6306  2.7007 -7.3136 -5.5979\n",
      "  -4.5762  0.1520  1.0947  7.5168  0.8802\n",
      "   0.4164  3.8136  2.0614  2.0709 -7.8364\n",
      "\n",
      "(2 ,.,.) = \n",
      "1.00000e-02 *\n",
      "  -8.1635  1.1727 -6.7060 -3.5906 -0.7676\n",
      "  -0.7081  5.0790 -2.5774  5.8949  2.4526\n",
      "  -2.2989  5.7270 -4.1944 -1.0823  3.6281\n",
      "  -3.2929 -3.1471  3.6478  1.0328  7.2124\n",
      "  -7.4301 -2.2331  3.6172  2.6394 -1.5877\n",
      "\n",
      "(3 ,.,.) = \n",
      "1.00000e-02 *\n",
      "   3.1417  0.1460  0.2462 -2.1426  0.8200\n",
      "   2.5539  6.1577  7.7736  7.0004  0.9081\n",
      "   4.4664  2.4499 -5.9710 -4.9809 -2.0120\n",
      "   6.7855  3.7462  1.9013  1.3723 -5.3466\n",
      "   4.6097 -5.4688 -4.0671  0.6687  1.7661\n",
      "\n",
      "(4 ,.,.) = \n",
      "1.00000e-02 *\n",
      "   2.9165  3.9158  4.1949 -0.3095  4.9200\n",
      "   6.4265  2.4177  5.3144 -7.8926  3.1000\n",
      "  -4.2889 -1.6968 -0.5655 -7.3626 -4.8817\n",
      "   1.8750  3.7723 -5.3049  3.0321  5.0004\n",
      "   7.2356  6.5245 -0.9568  2.6972  4.7409\n",
      "\n",
      "(5 ,.,.) = \n",
      "1.00000e-02 *\n",
      "   5.5828  7.9505 -6.7907  3.5842  1.7267\n",
      "  -3.2895 -3.7887 -1.8009  4.8240  6.8022\n",
      "   6.9839  2.9103 -4.7999  5.9255 -3.3122\n",
      "  -6.3436  2.4204 -6.3441  1.8694  0.3428\n",
      "  -7.0335  3.6682  8.1080  7.0656 -0.0380\n",
      "[torch.FloatTensor of size 6x5x5]\n",
      "\n"
     ]
    }
   ],
   "source": [
    "# Look at the weights and network structure\n",
    "print(net.state_dict().keys())\n",
    "print(\"Conv1:\",net.conv1.weight.size())\n",
    "print(\"Conv2:\",net.conv2.weight.size())\n",
    "print(net.conv1.weight[3,:,:,:])\n",
    "print(net.conv2.weight.size())\n",
    "print(net.conv2.weight[3,:,:,:])"
   ]
  },
  {
   "cell_type": "code",
   "execution_count": 5,
   "metadata": {},
   "outputs": [
    {
     "data": {
      "image/png": "[encoded data removed]",
      "text/plain": [
       "<matplotlib.figure.Figure at 0x11dddfda0>"
      ]
     },
     "metadata": {},
     "output_type": "display_data"
    },
    {
     "data": {
      "image/png": "[encoded data removed]",
      "text/plain": [
       "<matplotlib.figure.Figure at 0x11dddfb38>"
      ]
     },
     "metadata": {},
     "output_type": "display_data"
    },
    {
     "data": {
      "image/png": "[encoded data removed]",
      "text/plain": [
       "<matplotlib.figure.Figure at 0x11e00f2e8>"
      ]
     },
     "metadata": {},
     "output_type": "display_data"
    }
   ],
   "source": [
    "from torchvision import utils\n",
    "# Define a method to help visualize the convolutional kernels\n",
    "# From: https://github.com/pedrodiamel/nettutorial/blob/master/pytorch/pytorch_visualization.ipynb\n",
    "def vistensor(tensor, ch=0, allkernels=False, ncol=8, padding=1): \n",
    "    ''' @ch: visualization channel \n",
    "        @allkernels: visualization all tensores\n",
    "    ''' \n",
    "    n,c,w,h = tensor.shape\n",
    "    if allkernels: tensor = tensor.view(n*c,-1,w,h )\n",
    "    elif c != 3: tensor = tensor[:,ch,:,:].unsqueeze(dim=1)\n",
    "    rows = np.min( (tensor.shape[0]//ncol + 1, 64 )  )    \n",
    "    grid = utils.make_grid(tensor, nrow=ncol, normalize=True, padding=padding, scale_each=True)\n",
    "    plt.figure( figsize=(ncol,rows) )\n",
    "    plt.imshow(grid.numpy().transpose((1, 2, 0)))\n",
    "    plt.show()\n",
    "\n",
    "# Visualize the parameters of tensors before training (just noise)\n",
    "vistensor(net.conv1.weight.data) # Can view the first conv layer's kernels as being RGB\n",
    "# Or treat each of the 6 units as having 3 greyscale filters\n",
    "vistensor(net.conv1.weight.data, allkernels=True, ncol=3) \n",
    "# The second layer's filters\n",
    "vistensor(net.conv2.weight.data, allkernels=True, ncol=16) # "
   ]
  },
  {
   "cell_type": "code",
   "execution_count": null,
   "metadata": {
    "collapsed": true
   },
   "outputs": [],
   "source": [
    "import torch.optim as optim\n",
    "criterion = nn.CrossEntropyLoss()\n",
    "optimizer = optim.SGD(net.parameters(), lr=0.001, momentum=0.9)"
   ]
  },
  {
   "cell_type": "code",
   "execution_count": null,
   "metadata": {},
   "outputs": [
    {
     "name": "stdout",
     "output_type": "stream",
     "text": [
      "[1,  2000] loss: 2.194\n",
      "[1,  4000] loss: 1.833\n",
      "[1,  6000] loss: 1.655\n",
      "[1,  8000] loss: 1.564\n",
      "[1, 10000] loss: 1.490\n",
      "[2,  2000] loss: 1.437\n",
      "[2,  4000] loss: 1.377\n",
      "[2,  6000] loss: 1.364\n"
     ]
    }
   ],
   "source": [
    "import os\n",
    "# Load the model from disk if it already exists\n",
    "if os.path.exists(model_saved_name):\n",
    "    net.load_state_dict(torch.load(model_saved_name))\n",
    "    print('Loaded model')\n",
    "# Otherwise train it from scratch\n",
    "else:\n",
    "    for epoch in range(3):  # loop over the dataset multiple times\n",
    "        running_loss = 0.0\n",
    "        for i, data in enumerate(trainloader, 0):\n",
    "            # get the inputs\n",
    "            inputs, labels = data\n",
    "            # wrap them in Variable\n",
    "            inputs, labels = Variable(inputs), Variable(labels)\n",
    "            # zero the parameter gradients\n",
    "            optimizer.zero_grad()\n",
    "            # forward + backward + optimize\n",
    "            outputs = net(inputs)\n",
    "            loss = criterion(outputs, labels)\n",
    "            loss.backward()\n",
    "            optimizer.step()\n",
    "            # print statistics\n",
    "            running_loss += loss.data[0]\n",
    "            if i % 2000 == 1999:    # print every 2000 mini-batches\n",
    "                print('[%d, %5d] loss: %.3f' % (epoch + 1, i + 1, running_loss / 2000))\n",
    "                running_loss = 0.0\n",
    "    print('Finished Training')"
   ]
  },
  {
   "cell_type": "code",
   "execution_count": null,
   "metadata": {
    "collapsed": true
   },
   "outputs": [],
   "source": [
    "# Save it if a model file is not already present\n",
    "if not os.path.exists(model_saved_name):\n",
    "    torch.save(net.state_dict(), model_saved_name)"
   ]
  },
  {
   "cell_type": "code",
   "execution_count": null,
   "metadata": {},
   "outputs": [],
   "source": [
    "# Let's see what the network learned on some example images\n",
    "for _ in range(3):\n",
    "    images, labels = testdataiter.next()\n",
    "    # print images\n",
    "    imshow(torchvision.utils.make_grid(images))\n",
    "    print('GroundTruth: ', ' '.join('%5s' % classes[labels[j]] for j in range(iterBatchSize)))\n",
    "    # Output predicted by our net\n",
    "    outputs = net(Variable(images))\n",
    "    # Predicted class = index of max probability (treating output as probability)\n",
    "    _, predicted = torch.max(outputs.data, 1)\n",
    "    print('Predicted:   ', ' '.join('%5s' % classes[predicted[j]] for j in range(iterBatchSize)))\n",
    "    plt.show()"
   ]
  },
  {
   "cell_type": "code",
   "execution_count": null,
   "metadata": {},
   "outputs": [],
   "source": [
    "# Overall accuracy on the test set\n",
    "correct, total = 0, 0\n",
    "for data in testloader:\n",
    "    images, labels = data\n",
    "    outputs = net(Variable(images))\n",
    "    _, predicted = torch.max(outputs.data, 1)\n",
    "    total += labels.size(0)\n",
    "    correct += (predicted == labels).sum()\n",
    "print('Accuracy on test set: %d %%' % (100 * correct / total))"
   ]
  },
  {
   "cell_type": "code",
   "execution_count": null,
   "metadata": {},
   "outputs": [],
   "source": [
    "# What are the accuracies per class?\n",
    "nClasses = 10\n",
    "class_correct = list(0. for i in range(10))\n",
    "class_total = list(0. for i in range(10))\n",
    "for data in testloader:\n",
    "    images, labels = data\n",
    "    outputs = net(Variable(images))\n",
    "    _, predicted = torch.max(outputs.data, 1)\n",
    "    c = (predicted == labels).squeeze()\n",
    "    for i in range(iterBatchSize):\n",
    "        label = labels[i]\n",
    "        class_correct[label] += c[i]\n",
    "        class_total[label] += 1\n",
    "for i in range(nClasses):\n",
    "    print('Accuracy of %5s : %2d %%' % (\n",
    "        classes[i], 100 * class_correct[i] / class_total[i]))"
   ]
  },
  {
   "cell_type": "code",
   "execution_count": null,
   "metadata": {},
   "outputs": [],
   "source": [
    "# Compute the confusion matrix\n",
    "from torchnet import meter\n",
    "confusion_matrix = meter.ConfusionMeter(nClasses) \n",
    "for ii, data in enumerate(testloader):\n",
    "    input, label = data\n",
    "    val_input = Variable(input, volatile=True) #.cuda()\n",
    "    val_label = Variable(label.type(torch.LongTensor), volatile=True) #.cuda()\n",
    "    score = net(val_input)\n",
    "    confusion_matrix.add(score.data.squeeze(), label.type(torch.LongTensor))\n",
    "# Display the confusion matrix\n",
    "# Perhaps there are some patterns in which ones the classifier gets wrong\n",
    "a = confusion_matrix.conf\n",
    "fig = plt.figure() \n",
    "ax = fig.add_subplot(1,1,1)\n",
    "plt.imshow(a, cmap='hot', interpolation='nearest', aspect='auto')\n",
    "plt.xticks(list(range(nClasses)))\n",
    "plt.yticks(list(range(nClasses)))\n",
    "ax.set_yticklabels(classes)\n",
    "ax.set_xticklabels(classes)\n",
    "plt.show() # Rows are ground-truth, cols are predictions"
   ]
  },
  {
   "cell_type": "code",
   "execution_count": null,
   "metadata": {},
   "outputs": [],
   "source": [
    "# Recall the kernels were gaussian random noise at the start\n",
    "vistensor(net.conv1.weight.data)\n",
    "vistensor(net.conv1.weight.data, allkernels=True, ncol=3)\n",
    "vistensor(net.conv2.weight.data,allkernels=True,ncol=16)"
   ]
  },
  {
   "cell_type": "code",
   "execution_count": null,
   "metadata": {
    "collapsed": true
   },
   "outputs": [],
   "source": [
    "# For more visualizations, see: Visualizing and Understanding Convolutional Networks, Zeiler and Fergus, 2014"
   ]
  },
  {
   "cell_type": "code",
   "execution_count": null,
   "metadata": {
    "collapsed": true
   },
   "outputs": [],
   "source": []
  }
 ],
 "metadata": {
  "kernelspec": {
   "display_name": "Python 3",
   "language": "python",
   "name": "python3"
  },
  "language_info": {
   "codemirror_mode": {
    "name": "ipython",
    "version": 3
   },
   "file_extension": ".py",
   "mimetype": "text/x-python",
   "name": "python",
   "nbconvert_exporter": "python",
   "pygments_lexer": "ipython3",
   "version": "3.6.1"
  }
 },
 "nbformat": 4,
 "nbformat_minor": 2
}
