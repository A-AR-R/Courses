{
 "cells": [
  {
   "cell_type": "markdown",
   "metadata": {},
   "source": [
    "# CSC320: Images in the Frequency Domain"
   ]
  },
  {
   "cell_type": "code",
   "execution_count": null,
   "metadata": {},
   "outputs": [],
   "source": [
    "import numpy as np\n",
    "import cv2\n",
    "from scipy import ndimage, misc\n",
    "\n",
    "%matplotlib notebook\n",
    "import matplotlib.pyplot as plt\n",
    "from bokeh.plotting import figure, output_file, show\n",
    "from bokeh.io import show, output_notebook\n",
    "\n",
    "# use this palette for all plots\n",
    "from bokeh.palettes import Category10_10 as palette"
   ]
  },
  {
   "cell_type": "code",
   "execution_count": null,
   "metadata": {},
   "outputs": [],
   "source": [
    "def plot_fcns(xs, ys, backend='svg', colors=None, label_x='x', label_y='y'):\n",
    "    assert len(xs) == len(ys)\n",
    "    if colors is None:\n",
    "        colors = palette[0:len(ys)]\n",
    "        \n",
    "    p = figure(plot_height=300, plot_width=500, \n",
    "               x_range=(-np.pi, np.pi), y_range=(-1.5, 1.5),\n",
    "               x_axis_label=label_x, y_axis_label=label_y,\n",
    "               output_backend=backend)\n",
    "    p.multi_line(xs, ys, color=colors)\n",
    "    p.xaxis.visible = False\n",
    "    p.yaxis.visible = False\n",
    "    p.xgrid.visible = True\n",
    "    p.ygrid.visible = True\n",
    "    p.background_fill_color = None\n",
    "    p.border_fill_color = None \n",
    "    output_notebook()\n",
    "    show(p)"
   ]
  },
  {
   "cell_type": "code",
   "execution_count": null,
   "metadata": {},
   "outputs": [],
   "source": [
    "def plot_fcns_freq(xs, ys, backend='svg', colors=None, label_x='Frequency (Hz)', label_y='Amplitude'):\n",
    "    assert len(xs) == len(ys)\n",
    "    if colors is None:\n",
    "        colors = palette[0:len(ys)]\n",
    "        \n",
    "    p = figure(plot_height=300, plot_width=500,\n",
    "               x_axis_label=label_x, y_axis_label=label_y,\n",
    "               output_backend=backend)\n",
    "    p.multi_line(xs, ys, color=colors)\n",
    "    #for i, (x, y) in enumerate(zip(xs, ys)):\n",
    "    #    p.step(x, y, color=colors[i])\n",
    "    p.background_fill_color = None\n",
    "    p.border_fill_color = None \n",
    "    output_notebook()\n",
    "    show(p)"
   ]
  },
  {
   "cell_type": "code",
   "execution_count": null,
   "metadata": {},
   "outputs": [],
   "source": [
    "def imshow(img):\n",
    "    plt.figure()\n",
    "    ax = plt.axes([0,0,1,1])\n",
    "    plt.imshow(img, interpolation='nearest', cmap='gray')\n",
    "    plt.axis('off')"
   ]
  },
  {
   "cell_type": "code",
   "execution_count": null,
   "metadata": {},
   "outputs": [],
   "source": [
    "# log avoiding zeroes, replacing them with very small numbers\n",
    "def nonzero_log(img):\n",
    "    return np.log(img+np.finfo(np.float32).eps)"
   ]
  },
  {
   "cell_type": "markdown",
   "metadata": {},
   "source": [
    "## Approximating Functions with Sine Curves"
   ]
  },
  {
   "cell_type": "markdown",
   "metadata": {},
   "source": [
    "Let's define a simple step function:"
   ]
  },
  {
   "cell_type": "code",
   "execution_count": null,
   "metadata": {},
   "outputs": [],
   "source": [
    "def stepfcn(x):\n",
    "    if x <0:\n",
    "        return -1\n",
    "    return 1\n",
    "\n",
    "stepfcn_array = np.vectorize(stepfcn)"
   ]
  },
  {
   "cell_type": "code",
   "execution_count": null,
   "metadata": {},
   "outputs": [],
   "source": [
    "x = np.linspace(-np.pi,np.pi,10000) # 100 linearly spaced numbers\n",
    "y = stepfcn_array(x) # computing the values of our function"
   ]
  },
  {
   "cell_type": "code",
   "execution_count": null,
   "metadata": {},
   "outputs": [],
   "source": [
    "plot_fcns([x], [y])"
   ]
  },
  {
   "cell_type": "markdown",
   "metadata": {},
   "source": [
    "Our first attempt at approximating the step curve with sin(x)"
   ]
  },
  {
   "cell_type": "code",
   "execution_count": null,
   "metadata": {},
   "outputs": [],
   "source": [
    "plot_fcns([x, x],[y, np.sin(x)])"
   ]
  },
  {
   "cell_type": "code",
   "execution_count": null,
   "metadata": {},
   "outputs": [],
   "source": [
    "# Show how sin function changes with different parameters\n",
    "plot_fcns([x, x], [np.sin(x), 1.5*np.sin(x)])\n",
    "plot_fcns([x, x], [np.sin(x), np.sin(2*x)])\n",
    "plot_fcns([x, x], [np.sin(x), np.sin(x+np.pi/2)])"
   ]
  },
  {
   "cell_type": "code",
   "execution_count": null,
   "metadata": {},
   "outputs": [],
   "source": [
    "# See AZ lectures slides, pg2: http://www.robots.ox.ac.uk/~az/lectures/ia/lect2.pdf\n",
    "def fourier_component(x, n):\n",
    "    return 4/((2*n-1)*np.pi)*np.sin((2*n-1)*x)\n",
    "\n",
    "def fourier_series(x, n=1):\n",
    "    result = np.zeros_like(x)\n",
    "    for i in range(1, n+1):\n",
    "        result += fourier_component(x, n=i)\n",
    "    return result"
   ]
  },
  {
   "cell_type": "code",
   "execution_count": null,
   "metadata": {},
   "outputs": [],
   "source": [
    "plot_fcns([x, x],[y, fourier_series(x, n=1)])"
   ]
  },
  {
   "cell_type": "code",
   "execution_count": null,
   "metadata": {},
   "outputs": [],
   "source": [
    "plot_fcns([x, x],[y, fourier_series(x, n=2)])"
   ]
  },
  {
   "cell_type": "code",
   "execution_count": null,
   "metadata": {},
   "outputs": [],
   "source": [
    "plot_fcns([x, x, x],[y, fourier_component(x, n=1), fourier_component(x, n=2)])"
   ]
  },
  {
   "cell_type": "code",
   "execution_count": null,
   "metadata": {},
   "outputs": [],
   "source": [
    "plot_fcns([x, x],[np.sin(x), fourier_component(x, n=1)], colors=palette[0:2])\n",
    "plot_fcns([x],[fourier_component(x, n=2)], colors=palette[1])"
   ]
  },
  {
   "cell_type": "code",
   "execution_count": null,
   "metadata": {},
   "outputs": [],
   "source": [
    "plot_fcns([x, x],[y, fourier_series(x, n=3)])"
   ]
  },
  {
   "cell_type": "code",
   "execution_count": null,
   "metadata": {},
   "outputs": [],
   "source": [
    "plot_fcns([x, x],[y, fourier_series(x, n=10)])"
   ]
  },
  {
   "cell_type": "markdown",
   "metadata": {},
   "source": [
    "## The Fourier Transform as a Basis"
   ]
  },
  {
   "cell_type": "markdown",
   "metadata": {},
   "source": [
    "If we try transforming a constant function:"
   ]
  },
  {
   "cell_type": "code",
   "execution_count": null,
   "metadata": {},
   "outputs": [],
   "source": [
    "flat_fcn = np.ones_like(x)\n",
    "flat_sp = np.absolute(np.fft.fft(flat_fcn))\n",
    "flat_freq = np.fft.fftfreq(x.shape[-1])"
   ]
  },
  {
   "cell_type": "code",
   "execution_count": null,
   "metadata": {},
   "outputs": [],
   "source": [
    "plot_fcns([x],[flat_fcn])"
   ]
  },
  {
   "cell_type": "code",
   "execution_count": null,
   "metadata": {},
   "outputs": [],
   "source": [
    "plot_fcns_freq([flat_freq],[flat_sp])"
   ]
  },
  {
   "cell_type": "markdown",
   "metadata": {},
   "source": [
    "Let's try transforming a simple sine curve into the frequency domain using the Fourier transform (actually the Fast Fourier Transform (FFT))"
   ]
  },
  {
   "cell_type": "code",
   "execution_count": null,
   "metadata": {},
   "outputs": [],
   "source": [
    "sin_fcn = np.sin(100*x)\n",
    "sin_sp = np.absolute(np.fft.fft(sin_fcn))\n",
    "sin_freq = np.fft.fftfreq(x.shape[-1])"
   ]
  },
  {
   "cell_type": "code",
   "execution_count": null,
   "metadata": {},
   "outputs": [],
   "source": [
    "plot_fcns([x],[sin_fcn])"
   ]
  },
  {
   "cell_type": "code",
   "execution_count": null,
   "metadata": {},
   "outputs": [],
   "source": [
    "plot_fcns_freq([sin_freq],[sin_sp])"
   ]
  },
  {
   "cell_type": "markdown",
   "metadata": {},
   "source": [
    "Note that in the frequency domain, there is a we see only one peak (actually one negative and one positive), i.e. this function can be represented by a single point in frequency space.\n",
    "\n",
    "Let's instad try the Fourier transform of a the sum of two sinusoids"
   ]
  },
  {
   "cell_type": "code",
   "execution_count": null,
   "metadata": {},
   "outputs": [],
   "source": [
    "sin_fcn = np.sin(x)+np.sin(10*x)\n",
    "sin_sp = np.absolute(np.fft.fft(sin_fcn))\n",
    "sin_freq = np.fft.fftfreq(x.shape[-1])"
   ]
  },
  {
   "cell_type": "code",
   "execution_count": null,
   "metadata": {},
   "outputs": [],
   "source": [
    "plot_fcns([x],[sin_fcn])"
   ]
  },
  {
   "cell_type": "code",
   "execution_count": null,
   "metadata": {},
   "outputs": [],
   "source": [
    "plot_fcns_freq([sin_freq],[sin_sp.real])"
   ]
  },
  {
   "cell_type": "markdown",
   "metadata": {},
   "source": [
    "Now we see two peaks, i.e. this function can be represented by a 2 points in frequency space.\n",
    "\n",
    "Let's try something more complex now, let's go back to our step function, and see what the Fourier transform of that looks like"
   ]
  },
  {
   "cell_type": "code",
   "execution_count": null,
   "metadata": {},
   "outputs": [],
   "source": [
    "step_sp = np.absolute(np.fft.fft(y))\n",
    "step_freq = np.fft.fftfreq(x.shape[-1])"
   ]
  },
  {
   "cell_type": "code",
   "execution_count": null,
   "metadata": {
    "scrolled": true
   },
   "outputs": [],
   "source": [
    "plot_fcns([x], [y])"
   ]
  },
  {
   "cell_type": "code",
   "execution_count": null,
   "metadata": {},
   "outputs": [],
   "source": [
    "plot_fcns_freq([step_freq],[step_sp])"
   ]
  },
  {
   "cell_type": "markdown",
   "metadata": {},
   "source": [
    "We can see that the step function requires a lot of points in frequency space to represent!"
   ]
  },
  {
   "cell_type": "markdown",
   "metadata": {},
   "source": [
    "## 2D Image Fourier Transform Examples"
   ]
  },
  {
   "cell_type": "markdown",
   "metadata": {},
   "source": [
    "![Example Image](zoomedstreet.jpg)"
   ]
  },
  {
   "cell_type": "code",
   "execution_count": null,
   "metadata": {},
   "outputs": [],
   "source": [
    "img = cv2.imread('zoomedstreet.png', cv2.IMREAD_GRAYSCALE)\n",
    "imshow(img)"
   ]
  },
  {
   "cell_type": "code",
   "execution_count": null,
   "metadata": {},
   "outputs": [],
   "source": [
    "img_fft = np.fft.fft2(img)\n",
    "img_fft_centred = np.fft.fftshift(img_fft)"
   ]
  },
  {
   "cell_type": "markdown",
   "metadata": {},
   "source": [
    "### Frequency"
   ]
  },
  {
   "cell_type": "markdown",
   "metadata": {},
   "source": [
    "If we just try to plot the magnitude of the frequency components then..."
   ]
  },
  {
   "cell_type": "code",
   "execution_count": null,
   "metadata": {},
   "outputs": [],
   "source": [
    "imshow(np.abs(img_fft_centred))"
   ]
  },
  {
   "cell_type": "code",
   "execution_count": null,
   "metadata": {},
   "outputs": [],
   "source": [
    "imshow(20*np.log(np.abs(img_fft_centred)))"
   ]
  },
  {
   "cell_type": "markdown",
   "metadata": {},
   "source": [
    "### Phase"
   ]
  },
  {
   "cell_type": "code",
   "execution_count": null,
   "metadata": {},
   "outputs": [],
   "source": [
    "imshow(np.angle(img_fft_centred))"
   ]
  },
  {
   "cell_type": "markdown",
   "metadata": {},
   "source": [
    "### High-pass Filter"
   ]
  },
  {
   "cell_type": "code",
   "execution_count": null,
   "metadata": {},
   "outputs": [],
   "source": [
    "rows, cols = img.shape\n",
    "crow, ccol = rows//2 , cols//2\n",
    "boxsize=50\n",
    "\n",
    "img_fft_centred_highpass = img_fft_centred.copy()\n",
    "img_fft_centred_highpass[crow-boxsize:crow+boxsize, ccol-boxsize:ccol+boxsize] = 0\n",
    "img_fft_highpass = np.fft.ifftshift(img_fft_centred_highpass)\n",
    "img_back = np.fft.ifft2(img_fft_highpass)\n",
    "img_back = np.abs(img_back)"
   ]
  },
  {
   "cell_type": "code",
   "execution_count": null,
   "metadata": {},
   "outputs": [],
   "source": [
    "imshow(nonzero_log(np.abs(img_fft_centred_highpass)))"
   ]
  },
  {
   "cell_type": "code",
   "execution_count": null,
   "metadata": {},
   "outputs": [],
   "source": [
    "imshow(img_back)"
   ]
  },
  {
   "cell_type": "markdown",
   "metadata": {},
   "source": [
    "### Low-pass Filter"
   ]
  },
  {
   "cell_type": "code",
   "execution_count": null,
   "metadata": {},
   "outputs": [],
   "source": [
    "boxsize=50\n",
    "\n",
    "img_fft_centred_lowpass = np.zeros_like(img_fft_centred)\n",
    "img_fft_centred_lowpass[crow-boxsize:crow+boxsize, ccol-boxsize:ccol+boxsize] = img_fft_centred[crow-boxsize:crow+boxsize, ccol-boxsize:ccol+boxsize]\n",
    "img_fft_lowpass = np.fft.ifftshift(img_fft_centred_lowpass)\n",
    "img_back = np.fft.ifft2(img_fft_lowpass)\n",
    "img_back = np.abs(img_back)"
   ]
  },
  {
   "cell_type": "code",
   "execution_count": null,
   "metadata": {},
   "outputs": [],
   "source": [
    "imshow(nonzero_log(np.abs(img_fft_centred_lowpass)))"
   ]
  },
  {
   "cell_type": "code",
   "execution_count": null,
   "metadata": {},
   "outputs": [],
   "source": [
    "imshow(img_back)"
   ]
  },
  {
   "cell_type": "markdown",
   "metadata": {},
   "source": [
    "### DC Component"
   ]
  },
  {
   "cell_type": "code",
   "execution_count": null,
   "metadata": {},
   "outputs": [],
   "source": [
    "img_fft_centred_lowpass = np.zeros_like(img_fft_centred)\n",
    "img_fft_centred_lowpass[crow, ccol] = img_fft_centred[crow, ccol]\n",
    "img_fft_lowpass = np.fft.ifftshift(img_fft_centred_lowpass)\n",
    "img_back = np.fft.ifft2(img_fft_lowpass)\n",
    "img_back = np.abs(img_back)"
   ]
  },
  {
   "cell_type": "code",
   "execution_count": null,
   "metadata": {},
   "outputs": [],
   "source": [
    "imshow(img_back)"
   ]
  },
  {
   "cell_type": "markdown",
   "metadata": {},
   "source": [
    "### Gaussian Low-Pass Filter"
   ]
  },
  {
   "cell_type": "code",
   "execution_count": null,
   "metadata": {},
   "outputs": [],
   "source": [
    "ones_fft = np.ones_like(img)\n",
    "gaussian_fft = ndimage.fourier_gaussian(ones_fft, sigma=10)\n",
    "gaussian_fft_centred = np.fft.fftshift(gaussian_fft)\n",
    "imshow(gaussian_fft_centred)"
   ]
  },
  {
   "cell_type": "code",
   "execution_count": null,
   "metadata": {},
   "outputs": [],
   "source": [
    "img_low_pass_fft = img_fft*gaussian_fft\n",
    "img_back = np.fft.ifft2(img_low_pass_fft)\n",
    "img_back = np.abs(img_back)"
   ]
  },
  {
   "cell_type": "code",
   "execution_count": null,
   "metadata": {},
   "outputs": [],
   "source": [
    "imshow(nonzero_log(np.abs(np.fft.fftshift(img_low_pass_fft))))"
   ]
  },
  {
   "cell_type": "code",
   "execution_count": null,
   "metadata": {},
   "outputs": [],
   "source": [
    "imshow(img_back)"
   ]
  },
  {
   "cell_type": "markdown",
   "metadata": {},
   "source": [
    "### Gaussian High-Pass Filter"
   ]
  },
  {
   "cell_type": "code",
   "execution_count": null,
   "metadata": {},
   "outputs": [],
   "source": [
    "ones_fft = np.ones_like(img)\n",
    "inv_gaussian_fft = ones_fft-ndimage.fourier_gaussian(ones_fft, sigma=10)\n",
    "inv_gaussian_fft_centred = np.fft.fftshift(inv_gaussian_fft)\n",
    "imshow(inv_gaussian_fft_centred)"
   ]
  },
  {
   "cell_type": "code",
   "execution_count": null,
   "metadata": {},
   "outputs": [],
   "source": [
    "img_high_pass_fft = img_fft*inv_gaussian_fft\n",
    "img_back = np.fft.ifft2(img_high_pass_fft)\n",
    "img_back = np.abs(img_back)"
   ]
  },
  {
   "cell_type": "code",
   "execution_count": null,
   "metadata": {},
   "outputs": [],
   "source": [
    "imshow(nonzero_log(np.abs(np.fft.fftshift(img_high_pass_fft))))"
   ]
  },
  {
   "cell_type": "code",
   "execution_count": null,
   "metadata": {},
   "outputs": [],
   "source": [
    "imshow(img_back)"
   ]
  },
  {
   "cell_type": "markdown",
   "metadata": {},
   "source": [
    "### Gaussian Band-Pass Filter"
   ]
  },
  {
   "cell_type": "code",
   "execution_count": null,
   "metadata": {},
   "outputs": [],
   "source": [
    "ones_fft = np.ones_like(img)\n",
    "gaussian_bandpass_fft = ndimage.fourier_gaussian(ones_fft, sigma=5)-ndimage.fourier_gaussian(ones_fft, sigma=10)\n",
    "gaussian_bandpass_fft_centred = np.fft.fftshift(gaussian_bandpass_fft)\n",
    "imshow(gaussian_bandpass_fft_centred)"
   ]
  },
  {
   "cell_type": "code",
   "execution_count": null,
   "metadata": {},
   "outputs": [],
   "source": [
    "img_band_pass_fft = img_fft*gaussian_bandpass_fft\n",
    "img_back = np.fft.ifft2(img_band_pass_fft)\n",
    "img_back = np.abs(img_back)"
   ]
  },
  {
   "cell_type": "code",
   "execution_count": null,
   "metadata": {},
   "outputs": [],
   "source": [
    "imshow(img_back)"
   ]
  }
 ],
 "metadata": {
  "kernelspec": {
   "display_name": "Python 2",
   "language": "python",
   "name": "python2"
  },
  "language_info": {
   "codemirror_mode": {
    "name": "ipython",
    "version": 2
   },
   "file_extension": ".py",
   "mimetype": "text/x-python",
   "name": "python",
   "nbconvert_exporter": "python",
   "pygments_lexer": "ipython2",
   "version": "2.7.16"
  }
 },
 "nbformat": 4,
 "nbformat_minor": 2
}
