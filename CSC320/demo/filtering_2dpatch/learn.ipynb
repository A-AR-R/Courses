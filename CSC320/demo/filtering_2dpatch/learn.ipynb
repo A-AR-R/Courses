{
 "cells": [
  {
   "cell_type": "code",
   "execution_count": null,
   "metadata": {},
   "outputs": [],
   "source": [
    "import cv2\n",
    "import numpy as np\n",
    "import matplotlib.pyplot as plt\n",
    "plt.rcParams['figure.figsize'] = [14,14]\n",
    "\n",
    "\n",
    "def show_image(image, description=''):\n",
    "    plt.subplot()\n",
    "    img = plt.imshow(image, cmap='gray', interpolation='nearest')\n",
    "    plt.axis('off')\n",
    "    plt.title(description)\n",
    "    plt.show()\n",
    "    \n",
    "def show_images(images, descriptions=[], layouts=''):\n",
    "    if layouts == '':\n",
    "        layouts = \"{}1\".format(len(images))\n",
    "    if descriptions == []:\n",
    "        descriptions = ['' for _ in range(len(images))]\n",
    "    for i,img in enumerate(images):\n",
    "        plt.subplot(\"{}{}\".format(layouts, i+1))\n",
    "        img = plt.imshow(img, cmap='gray', interpolation='nearest')\n",
    "        plt.axis('off')\n",
    "        plt.title(descriptions[i])\n",
    "    plt.show()"
   ]
  },
  {
   "cell_type": "markdown",
   "metadata": {},
   "source": [
    "## Difference of Gaussian"
   ]
  },
  {
   "cell_type": "code",
   "execution_count": null,
   "metadata": {},
   "outputs": [],
   "source": [
    "ksize = 3\n",
    "gaussian_filter = cv2.getGaussianKernel(ksize, -1)\n",
    "gaussian_filter"
   ]
  },
  {
   "cell_type": "code",
   "execution_count": null,
   "metadata": {},
   "outputs": [],
   "source": [
    "image = cv2.imread(\"quartergray.png\", cv2.IMREAD_GRAYSCALE)/255\n",
    "\n",
    "gaussian_filter3 = cv2.getGaussianKernel(3, -1)\n",
    "smoothed3=cv2.sepFilter2D(image, -1, gaussian_filter3, gaussian_filter3.T)\n",
    "gaussian_filter5 = cv2.getGaussianKernel(5, -1)\n",
    "smoothed5=cv2.sepFilter2D(image, -1, gaussian_filter5, gaussian_filter5.T)\n",
    "\n",
    "DoG = smoothed5-smoothed3\n",
    "# cv2.NORM_MINMAX normalizes values to be in range [beta,alpha]\n",
    "# Used for `imwrite` requiring `uint8` type ...\n",
    "norm_DoG = cv2.normalize(DoG,None,alpha=255,beta=1,norm_type=cv2.NORM_MINMAX,dtype=cv2.CV_8UC1)\n",
    "\n",
    "edge_threshold = 0.1 * (np.max(DoG)-np.min(DoG))\n",
    "edges = DoG > edge_threshold\n",
    "\n",
    "images = [image,smoothed3,smoothed5,DoG,norm_DoG,edges]\n",
    "descriptions = ['original', 'smoothed3', 'smoothed5', 'DoG', 'normDoG', 'edges']\n",
    "show_images(images, descriptions, \"32\")"
   ]
  },
  {
   "cell_type": "markdown",
   "metadata": {},
   "source": [
    "## Laplacian of Gaussian"
   ]
  },
  {
   "cell_type": "code",
   "execution_count": null,
   "metadata": {},
   "outputs": [],
   "source": [
    "ksize = 3\n",
    "\n",
    "image = cv2.imread(\"quartergray.png\", cv2.IMREAD_GRAYSCALE)/255\n",
    "gaussian_filter = cv2.getGaussianKernel(ksize, -1)\n",
    "smoothed=cv2.sepFilter2D(image, -1, gaussian_filter, gaussian_filter.T)\n",
    "\n",
    "laplacian_filter = np.array([ [0,1,0],[1,-4,1],[0,1,0] ])\n",
    "LoG = cv2.filter2D(image,-1,laplacian_filter)\n",
    "\n",
    "edge_threshold = 0.1 * (np.max(LoG)-np.min(LoG))\n",
    "edges = LoG > edge_threshold\n",
    "\n",
    "images = [image,smoothed,LoG,edges]\n",
    "descriptions = ['original', 'smoothed', 'LoG', 'edges']\n",
    "show_images(images, descriptions, \"22\")"
   ]
  },
  {
   "cell_type": "markdown",
   "metadata": {},
   "source": [
    "## Gradient Filters"
   ]
  },
  {
   "cell_type": "code",
   "execution_count": null,
   "metadata": {},
   "outputs": [],
   "source": [
    "\n",
    "def gradient(image, type='sobel'):\n",
    "        # Creates a 2D convolutional filter (see https://docs.opencv.org/2.4/modules/imgproc/doc/filtering.html )\n",
    "        # This is the same as performing for each pixel the finite difference calculation given in class\n",
    "        if type == 'forwarddiff':\n",
    "                filter_x = np.array(([0, 0, 0], [0, -1, 1], [0, 0, 0]))\n",
    "                filter_y = filter_x.T\n",
    "        if type == 'backwarddiff':\n",
    "                filter_x = np.array(([0, 0, 0], [-1, 1, 0], [0, 0, 0]))\n",
    "                filter_y = filter_x.T\n",
    "        elif type == 'centraldiff':\n",
    "                filter_x = np.array(([0, 0, 0], [-1, 0, 1], [0, 0, 0]))/2\n",
    "                filter_y = filter_x.T\n",
    "        elif type == 'smooth':\n",
    "                filter_x = np.array(([0, 0, 0], [1, 2, 1], [0, 0, 0]))/4\n",
    "                filter_y = filter_x.T\n",
    "        else:\n",
    "                filter_y = np.array(([-1, -2, -1], [0, 0, 0], [1, 2, 1]))\n",
    "                filter_x = filter_y.T\n",
    "\n",
    "        # filter the image\n",
    "        grad_x = cv2.filter2D(image, -1, filter_x)\n",
    "        grad_y = cv2.filter2D(image, -1, filter_y)\n",
    "\n",
    "        return grad_x, grad_y\n",
    "\n",
    "\n",
    "def polar(grad_x, grad_y):\n",
    "    magnitude = np.sqrt(grad_x**2+grad_y**2)\n",
    "    theta = np.arctan2(grad_y, grad_x)\n",
    "\n",
    "    theta = theta/np.pi\n",
    "\n",
    "    return magnitude.astype(np.float32), theta.astype(np.float32)\n",
    "    "
   ]
  },
  {
   "cell_type": "code",
   "execution_count": null,
   "metadata": {},
   "outputs": [],
   "source": [
    "image = cv2.imread(\"quartergray.png\", cv2.IMREAD_GRAYSCALE)/255\n",
    "\n",
    "filters = ['sobel','smooth','forwarddiff','backwarddiff','centraldiff']\n",
    "for f in filters:\n",
    "    (grad_x, grad_y) = gradient(image, f)\n",
    "    descriptions = [\"{}-{}\".format(f,x) for x in ['gradx','grady','magnitude']]\n",
    "    show_images([grad_x,grad_y,grad_x+grad_y], descriptions,'13')\n"
   ]
  },
  {
   "cell_type": "code",
   "execution_count": null,
   "metadata": {},
   "outputs": [],
   "source": []
  }
 ],
 "metadata": {
  "kernelspec": {
   "display_name": "Python [conda env:anaconda]",
   "language": "python",
   "name": "conda-env-anaconda-py"
  },
  "language_info": {
   "codemirror_mode": {
    "name": "ipython",
    "version": 3
   },
   "file_extension": ".py",
   "mimetype": "text/x-python",
   "name": "python",
   "nbconvert_exporter": "python",
   "pygments_lexer": "ipython3",
   "version": "3.7.2"
  }
 },
 "nbformat": 4,
 "nbformat_minor": 2
}
