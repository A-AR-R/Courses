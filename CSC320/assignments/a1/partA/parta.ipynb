{
 "cells": [
  {
   "cell_type": "markdown",
   "metadata": {},
   "source": [
    "For any background $B$ and foreground $F$ and matte $\\alpha_F$, we can compute a __composition__ $C$\n",
    "\n",
    "$$\n",
    "\\begin{pmatrix}\n",
    "    C_r \\\\\n",
    "    C_g \\\\\n",
    "    C_b \\\\\n",
    "\\end{pmatrix} = \\alpha_F\n",
    "\\begin{pmatrix}\n",
    "    F_r \\\\\n",
    "    F_g \\\\\n",
    "    F_b \\\\\n",
    "\\end{pmatrix}\n",
    "+ \n",
    "(1-\\alpha_F)\n",
    "\\begin{pmatrix}\n",
    "    B_r \\\\\n",
    "    B_g \\\\\n",
    "    B_b \\\\\n",
    "\\end{pmatrix}\n",
    "$$\n",
    "\n",
    "Given two pair of background $B_0,B_1$ and the corresponding composite $C_0,B_1$, __triangulation matting__ finds foreground color $F$ and mat $\\alpha_F$ for all pixel locations. This involves solving the following\n",
    "\n",
    "$$\n",
    "\\begin{pmatrix}\n",
    "    C_{0,r} \\\\\n",
    "    C_{0,g} \\\\\n",
    "    C_{0,b} \\\\\n",
    "    C_{1,r} \\\\\n",
    "    C_{1,g} \\\\\n",
    "    C_{1,b} \\\\\n",
    "\\end{pmatrix}\n",
    "= \n",
    "\\begin{pmatrix}\n",
    "    1 & 0 & 0 & -B_{0,r} \\\\\n",
    "    0 & 1 & 0 & -B_{0,g} \\\\\n",
    "    0 & 0 & 1 & -B_{0,b} \\\\\n",
    "    1 & 0 & 0 & -B_{1,r} \\\\\n",
    "    0 & 1 & 0 & -B_{1,g} \\\\\n",
    "    0 & 0 & 1 & -B_{1,b} \\\\\n",
    "\\end{pmatrix}\n",
    "\\begin{pmatrix}\n",
    "    \\alpha_F F_r \\\\\n",
    "    \\alpha_F F_g \\\\\n",
    "    \\alpha_F F_b \\\\\n",
    "    \\alpha_F\n",
    "\\end{pmatrix}\n",
    "$$\n",
    "\n",
    "at each pixel location\n",
    "\n",
    "\n",
    "\n",
    "\n"
   ]
  },
  {
   "cell_type": "code",
   "execution_count": null,
   "metadata": {},
   "outputs": [],
   "source": [
    "import numpy as np\n",
    "import scipy.linalg as sp\n",
    "import cv2 as cv\n",
    "from matplotlib import pyplot as plt"
   ]
  },
  {
   "cell_type": "code",
   "execution_count": null,
   "metadata": {},
   "outputs": [],
   "source": [
    "#      viscomp.py --matting \\\n",
    "#                 --backA ../test_images/tiny/flowers-backA.jpg \\\n",
    "#                 --backB ../test_images/tiny/flowers-backB.jpg \\\n",
    "#                 --compA ../test_images/tiny/flowers-compA.jpg \\\n",
    "#                 --compB ../test_images/tiny/flowers-compB.jpg \\\n",
    "#                 --alphaOut alpha.tif \\\n",
    "#                 --colOut col.tif\n",
    "\n",
    "backA = cv.imread(\"../test_images/tiny/flowers-backA.jpg\")\n",
    "backB = cv.imread(\"../test_images/tiny/flowers-backB.jpg\")\n",
    "compA = cv.imread(\"../test_images/tiny/flowers-compA.jpg\")\n",
    "compB = cv.imread(\"../test_images/tiny/flowers-compB.jpg\")\n",
    "\n",
    "plt.subplot(221); plt.imshow(backA); plt.xticks([]);plt.yticks([])\n",
    "plt.subplot(222); plt.imshow(backB); plt.xticks([]);plt.yticks([])\n",
    "plt.subplot(223); plt.imshow(compA); plt.xticks([]);plt.yticks([])\n",
    "plt.subplot(224); plt.imshow(compB); plt.xticks([]);plt.yticks([])"
   ]
  },
  {
   "cell_type": "code",
   "execution_count": null,
   "metadata": {},
   "outputs": [],
   "source": [
    "# useful for clipping later on with `np.clip`\n",
    "backA = backA/255.\n",
    "backB = backB/255.\n",
    "compA = compA/255.\n",
    "compB = compB/255."
   ]
  },
  {
   "cell_type": "code",
   "execution_count": null,
   "metadata": {
    "scrolled": false
   },
   "outputs": [],
   "source": [
    "# triangulation matting\n",
    "\n",
    "deltaA = compA-backA\n",
    "deltaB = compB-backB\n",
    "colOut = np.zeros(compA.shape)\n",
    "alphaOut = np.zeros(colOut.shape[:2])\n",
    "\n",
    "nr,nc,nchannels = compA.shape\n",
    "\n",
    "for i in range(int(nr/3),int(nr/3)+int(nr/3)):\n",
    "    for j in range(int(nc/3),int(nc/3)+int(nc/3)):\n",
    "        b = np.hstack((deltaA[i,j,:], deltaB[i,j,:]))\n",
    "        b = np.transpose(b)\n",
    "        A = np.zeros((6,4))\n",
    "        A[0:3,0:3] = np.eye(3)\n",
    "        A[3:6,0:3] = np.eye(3)\n",
    "        A[:,3] = -np.hstack((backA[i,j,:], backB[i,j,:]))\n",
    "        x = np.dot(np.linalg.pinv(A),b)\n",
    "        x = np.clip(x,0.,1.)\n",
    "        \n",
    "        colOut[i,j,:] = x[:3]\n",
    "        alphaOut[i,j] = x[3]\n",
    "        \n",
    "cv.imwrite('mycol.tif', colOut*255)\n",
    "cv.imwrite('myalpha.tif', alphaOut*255)\n",
    "plt.subplot(121); plt.imshow(colOut)\n",
    "plt.subplot(122); plt.imshow(alphaOut, \"gray\")"
   ]
  },
  {
   "cell_type": "code",
   "execution_count": null,
   "metadata": {},
   "outputs": [],
   "source": [
    "# \t\n",
    "# \t viscomp.py --compositing \\\n",
    "# \t            --alphaIn alpha.tif \\\n",
    "# \t \t\t\t--colIn col.tif \\\n",
    "# \t            --backIn ../test_images/tiny/window.jpg \\\n",
    "# \t            --compOut comp.jpg\n",
    "alphaIn = cv.imread(\"myalpha.tif\") / 255.\n",
    "colIn = cv.imread(\"mycol.tif\") / 255.\n",
    "backIn = cv.imread(\"../test_images/tiny/window.jpg\") / 255.\n",
    "\n",
    "plt.subplot(131); plt.imshow(alphaIn); plt.xticks([]);plt.yticks([])\n",
    "plt.subplot(132); plt.imshow(colIn); plt.xticks([]);plt.yticks([])\n",
    "plt.subplot(133); plt.imshow(backIn); plt.xticks([]);plt.yticks([])"
   ]
  },
  {
   "cell_type": "code",
   "execution_count": null,
   "metadata": {},
   "outputs": [],
   "source": [
    "compOut = np.zeros_like(colIn)\n",
    "nr,nc,nchannels = colIn.shape\n",
    "for i in range(0,nr):\n",
    "    for j in range(0,nc):\n",
    "        alpha = alphaIn[i,j]\n",
    "        compOut[i,j,:] = alpha*colIn[i,j,:] + (1-alpha)*backIn[i,j,:]\n",
    "plt.imshow(compOut)"
   ]
  },
  {
   "cell_type": "code",
   "execution_count": null,
   "metadata": {},
   "outputs": [],
   "source": [
    "# vectorized version ...\n",
    "compOutvec = alphaIn*colIn + (1-alphaIn)*backIn\n",
    "plt.imshow(compOutvec)"
   ]
  },
  {
   "cell_type": "code",
   "execution_count": null,
   "metadata": {},
   "outputs": [],
   "source": []
  }
 ],
 "metadata": {
  "kernelspec": {
   "display_name": "Python [conda env:anaconda]",
   "language": "python",
   "name": "conda-env-anaconda-py"
  },
  "language_info": {
   "codemirror_mode": {
    "name": "ipython",
    "version": 3
   },
   "file_extension": ".py",
   "mimetype": "text/x-python",
   "name": "python",
   "nbconvert_exporter": "python",
   "pygments_lexer": "ipython3",
   "version": "3.7.2"
  }
 },
 "nbformat": 4,
 "nbformat_minor": 2
}
