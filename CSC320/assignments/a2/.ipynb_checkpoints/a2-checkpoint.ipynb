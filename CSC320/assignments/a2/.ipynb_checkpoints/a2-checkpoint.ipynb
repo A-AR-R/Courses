{
 "cells": [
  {
   "cell_type": "code",
   "execution_count": 20,
   "metadata": {},
   "outputs": [
    {
     "data": {
      "text/html": [
       "<style>.container { width:90% !important; }</style>"
      ],
      "text/plain": [
       "<IPython.core.display.HTML object>"
      ]
     },
     "metadata": {},
     "output_type": "display_data"
    }
   ],
   "source": [
    "import cv2 as cv\n",
    "import numpy as np\n",
    "import matplotlib.pyplot as plt\n",
    "plt.rcParams['figure.figsize'] = (30,30)\n",
    "\n",
    "from IPython.core.display import display, HTML\n",
    "display(HTML(\"<style>.container { width:90% !important; }</style>\"))\n",
    "\n",
    "def show_image(image, description=''):\n",
    "    plt.subplot()\n",
    "    img = plt.imshow(image, interpolation='nearest')\n",
    "    plt.axis('off')\n",
    "    plt.title(description)\n",
    "    plt.show()\n",
    "    \n",
    "def show_images(images, descriptions=[], layouts=''):\n",
    "    if layouts == '':\n",
    "        layouts = \"{}1\".format(len(images))\n",
    "    if descriptions == []:\n",
    "        descriptions = ['' for _ in range(len(images))]\n",
    "    for i,img in enumerate(images):\n",
    "        plt.subplot(\"{}{}\".format(layouts, i+1))\n",
    "        \n",
    "        # 1 channel -> 3 channel\n",
    "        if len(img.shape) == 2 or img.shape[2] == 1:\n",
    "            img = cv.cvtColor(img,cv.COLOR_GRAY2BGR)\n",
    "\n",
    "        img = plt.imshow(img, interpolation='nearest')\n",
    "        plt.axis('off')\n",
    "        plt.title(descriptions[i])\n",
    "    plt.show()"
   ]
  },
  {
   "cell_type": "code",
   "execution_count": 60,
   "metadata": {},
   "outputs": [
    {
     "ename": "IndexError",
     "evalue": "index 1 is out of bounds for axis 2 with size 1",
     "output_type": "error",
     "traceback": [
      "\u001b[0;31m---------------------------------------------------------------------------\u001b[0m",
      "\u001b[0;31mIndexError\u001b[0m                                Traceback (most recent call last)",
      "\u001b[0;32m<ipython-input-60-e3edec9e71f8>\u001b[0m in \u001b[0;36m<module>\u001b[0;34m\u001b[0m\n\u001b[1;32m     14\u001b[0m \u001b[0mtest\u001b[0m \u001b[0;34m=\u001b[0m \u001b[0mnp\u001b[0m\u001b[0;34m.\u001b[0m\u001b[0mzeros\u001b[0m\u001b[0;34m(\u001b[0m\u001b[0mgray_padded\u001b[0m\u001b[0;34m.\u001b[0m\u001b[0mshape\u001b[0m\u001b[0;34m)\u001b[0m\u001b[0;34m[\u001b[0m\u001b[0;34m:\u001b[0m\u001b[0;34m,\u001b[0m\u001b[0;34m:\u001b[0m\u001b[0;34m,\u001b[0m\u001b[0;32mNone\u001b[0m\u001b[0;34m]\u001b[0m\u001b[0;34m\u001b[0m\u001b[0;34m\u001b[0m\u001b[0m\n\u001b[1;32m     15\u001b[0m \u001b[0mtest\u001b[0m\u001b[0;34m[\u001b[0m\u001b[0;34m:\u001b[0m\u001b[0;34m,\u001b[0m\u001b[0;34m:\u001b[0m\u001b[0;34m,\u001b[0m\u001b[0;36m0\u001b[0m\u001b[0;34m]\u001b[0m \u001b[0;34m=\u001b[0m \u001b[0mgray_padded\u001b[0m\u001b[0;34m/\u001b[0m\u001b[0;36m255.\u001b[0m\u001b[0;34m\u001b[0m\u001b[0;34m\u001b[0m\u001b[0m\n\u001b[0;32m---> 16\u001b[0;31m \u001b[0mtest\u001b[0m\u001b[0;34m[\u001b[0m\u001b[0;34m:\u001b[0m\u001b[0;34m,\u001b[0m\u001b[0;34m:\u001b[0m\u001b[0;34m,\u001b[0m\u001b[0;36m1\u001b[0m\u001b[0;34m]\u001b[0m \u001b[0;34m=\u001b[0m \u001b[0mgray_padded\u001b[0m\u001b[0;34m/\u001b[0m\u001b[0;36m255.\u001b[0m\u001b[0;34m\u001b[0m\u001b[0;34m\u001b[0m\u001b[0m\n\u001b[0m\u001b[1;32m     17\u001b[0m \u001b[0mtest\u001b[0m\u001b[0;34m[\u001b[0m\u001b[0;34m:\u001b[0m\u001b[0;34m,\u001b[0m\u001b[0;34m:\u001b[0m\u001b[0;34m,\u001b[0m\u001b[0;36m2\u001b[0m\u001b[0;34m]\u001b[0m \u001b[0;34m=\u001b[0m \u001b[0mgray_padded\u001b[0m\u001b[0;34m/\u001b[0m\u001b[0;36m255.\u001b[0m\u001b[0;34m\u001b[0m\u001b[0;34m\u001b[0m\u001b[0m\n\u001b[1;32m     18\u001b[0m \u001b[0;34m\u001b[0m\u001b[0m\n",
      "\u001b[0;31mIndexError\u001b[0m: index 1 is out of bounds for axis 2 with size 1"
     ]
    }
   ],
   "source": [
    "alpha = cv.imread(\"test_images/input-alpha.bmp\")\n",
    "color = cv.imread(\"test_images/input-color.jpg\")\n",
    "gray = cv.cvtColor(color, cv.COLOR_BGR2GRAY)          # 1 channel\n",
    "gray_padded = cv.copyMakeBorder(gray,1,1,1,1,cv.BORDER_CONSTANT,value=0)\n",
    "\n",
    "sobelx_kernel = np.array(([-1, -2, -1], [0, 0, 0], [1, 2, 1]))\n",
    "sobely_kernel = sobelx_kernel.T\n",
    "gradx = cv.filter2D(gray_padded,-1,sobelx_kernel)\n",
    "grady = cv.filter2D(gray_padded,-1,sobely_kernel)\n",
    "\n",
    "gradx = gradx[1:-1,1:-1]\n",
    "grady = grady[1:-1,1:-1]\n",
    "\n",
    "test = np.zeros((gray_padded.shape[0], gray_padded.shape[1], 3))\n",
    "test[:,:,0] = gray_padded/255.\n",
    "test[:,:,1] = gray_padded/255.\n",
    "test[:,:,2] = gray_padded/255.\n",
    "\n",
    "\n",
    "images = [alpha,color,gray_padded,gradx,grady,test]\n",
    "descriptions = ['alpha','color','gray_padded','gradx','grady', 'gray32float']\n",
    "show_images(images,descriptions,'23')"
   ]
  },
  {
   "cell_type": "code",
   "execution_count": 37,
   "metadata": {},
   "outputs": [
    {
     "data": {
      "text/plain": [
       "array([[ True, False, False],\n",
       "       [False, False, False],\n",
       "       [False, False, False]])"
      ]
     },
     "execution_count": 37,
     "metadata": {},
     "output_type": "execute_result"
    }
   ],
   "source": [
    "A = np.array([[1,1,1],[0,0,0],[0,0,0]], dtype=np.uint8)\n",
    "B = np.array([ [255,255,0],[0,0,0],[0,0,0] ], dtype=np.uint8)\n",
    "C = np.array([ [True,False,False],[False,False,False],[False,False,False] ])\n",
    "\n",
    "np.logical_and(np.logical_and(A,B), C)"
   ]
  },
  {
   "cell_type": "code",
   "execution_count": 48,
   "metadata": {},
   "outputs": [
    {
     "name": "stdout",
     "output_type": "stream",
     "text": [
      "[[0. 1. 2. 3. 4. 1. 0.]\n",
      " [5. 6. 7. 8. 9. 0. 1.]]\n"
     ]
    },
    {
     "data": {
      "text/plain": [
       "(1, 4)"
      ]
     },
     "execution_count": 48,
     "metadata": {},
     "output_type": "execute_result"
    }
   ],
   "source": [
    "l = np.arange(10).reshape((2,5))\n",
    "l = np.hstack((l,np.eye(2)))\n",
    "\n",
    "\n",
    "np.unravel_index(np.argmax(l),l.shape)"
   ]
  },
  {
   "cell_type": "code",
   "execution_count": null,
   "metadata": {},
   "outputs": [],
   "source": []
  }
 ],
 "metadata": {
  "kernelspec": {
   "display_name": "Python [conda env:anaconda]",
   "language": "python",
   "name": "conda-env-anaconda-py"
  },
  "language_info": {
   "codemirror_mode": {
    "name": "ipython",
    "version": 3
   },
   "file_extension": ".py",
   "mimetype": "text/x-python",
   "name": "python",
   "nbconvert_exporter": "python",
   "pygments_lexer": "ipython3",
   "version": "3.7.2"
  }
 },
 "nbformat": 4,
 "nbformat_minor": 2
}
