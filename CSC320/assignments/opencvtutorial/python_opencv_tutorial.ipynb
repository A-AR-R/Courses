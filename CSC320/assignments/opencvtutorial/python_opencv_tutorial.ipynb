{
 "cells": [
  {
   "cell_type": "code",
   "execution_count": 1,
   "metadata": {},
   "outputs": [],
   "source": [
    "import numpy as np\n",
    "import cv2\n",
    "from matplotlib import pyplot as plt"
   ]
  },
  {
   "cell_type": "code",
   "execution_count": null,
   "metadata": {},
   "outputs": [],
   "source": [
    "img = cv2.imread('window.jpg', cv2.IMREAD_UNCHANGED)\n",
    "plt.imshow(img)\n",
    "plt.xticks([]), plt.yticks([])  # to hide tick values on X and Y axis\n",
    "plt.show()"
   ]
  },
  {
   "cell_type": "code",
   "execution_count": null,
   "metadata": {},
   "outputs": [],
   "source": [
    "# Basic Ops: https://docs.opencv.org/3.0-beta/doc/py_tutorials/py_core/py_basic_ops/py_basic_ops.html#basic-ops\n",
    "imgc=img.copy()\n",
    "\n",
    "# split/merge channels\n",
    "b,g,r = cv2.split(img) \n",
    "img = cv2.merge((b,g,r))\n",
    "\n",
    "# padding\n",
    "constpad = cv2.copyMakeBorder(img,20,20,20,20,cv2.BORDER_CONSTANT,value=[255,0,0])\n",
    "plt.imshow(constpad)"
   ]
  },
  {
   "cell_type": "code",
   "execution_count": null,
   "metadata": {},
   "outputs": [],
   "source": [
    "# Arthmetic Ops: https://docs.opencv.org/3.0-beta/doc/py_tutorials/py_core/py_image_arithmetics/py_image_arithmetics.html#image-arithmetics\n",
    "\n",
    "# image addition\n",
    "window = cv2.imread('window.jpg', cv2.IMREAD_UNCHANGED)\n",
    "leaves = cv2.imread('leaves.jpg', cv2.IMREAD_UNCHANGED)\n",
    "plt.subplot(141), plt.imshow(window)\n",
    "plt.subplot(142), plt.imshow(leaves)\n",
    "plt.subplot(143), plt.imshow(window+leaves)\n",
    "plt.subplot(144), plt.imshow(cv2.add(window,leaves))"
   ]
  },
  {
   "cell_type": "code",
   "execution_count": null,
   "metadata": {},
   "outputs": [],
   "source": [
    "# image blending\n",
    "plt.subplot(131), plt.imshow(window)\n",
    "plt.subplot(132), plt.imshow(leaves)\n",
    "plt.subplot(133), plt.imshow(cv2.addWeighted(window,0.8,leaves,0.2,0))"
   ]
  },
  {
   "cell_type": "code",
   "execution_count": null,
   "metadata": {},
   "outputs": [],
   "source": [
    "# bitwise ops\n",
    "window = cv2.imread('window.jpg', cv2.IMREAD_UNCHANGED)\n",
    "logo = cv2.imread('GitHub_Logo.png', cv2.IMREAD_UNCHANGED)\n",
    "logo = cv2.resize(logo, (120,80))\n",
    "logo = cv2.cvtColor(logo,cv2.COLOR_BGRA2BGR)\n",
    "\n",
    "# put logo on bottom-right\n",
    "rows,cols,channels = logo.shape\n",
    "roi = window[-rows:,-cols:]\n",
    "\n",
    "# mask of logo, and inverse mask\n",
    "img2gray = cv2.cvtColor(logo,cv2.COLOR_BGR2GRAY)\n",
    "ret,mask1 = cv2.threshold(img2gray,10,255,cv2.THRESH_BINARY_INV)\n",
    "ret,mask2= cv2.threshold(img2gray,120,255,cv2.THRESH_BINARY)\n",
    "mask_inv = cv2.add(mask1,mask2)\n",
    "mask = cv2.bitwise_not(mask)\n",
    "\n",
    "# blask out area of logo in ROI\n",
    "roi_bg = cv2.bitwise_and(roi,roi,mask=mask_inv)\n",
    "# region of logo from logo \n",
    "logo_fg = cv2.bitwise_and(logo,logo,mask=mask)\n",
    "\n",
    "# put logo in ROI and modify the image\n",
    "dst = cv2.add(roi_bg,logo_fg)\n",
    "\n",
    "plt.subplot(231); plt.imshow(mask1,'gray')\n",
    "plt.subplot(232); plt.imshow(mask2,'gray')\n",
    "plt.subplot(233); plt.imshow(mask,'gray')\n",
    "plt.subplot(234); plt.imshow(roi_bg,'gray')\n",
    "plt.subplot(235); plt.imshow(logo_fg,'gray')\n",
    "plt.subplot(236); plt.imshow(dst,'gray')"
   ]
  },
  {
   "cell_type": "code",
   "execution_count": null,
   "metadata": {},
   "outputs": [],
   "source": [
    "# Perf Measurements: https://docs.opencv.org/3.0-beta/doc/py_tutorials/py_core/py_optimization/py_optimization.html#optimization-techniques\n",
    "\n",
    "window = cv2.imread('window.jpg', cv2.IMREAD_UNCHANGED)\n",
    "# time median filtering (good against salt-pepper noise)\n",
    "\n",
    "def benchmarkfiltering(enablesimd):\n",
    "    cv2.setUseOptimized(enablesimd)\n",
    "    e1 = cv2.getTickCount()\n",
    "    for i in range(5,49,2):\n",
    "        img1 = cv2.medianBlur(window,i)\n",
    "    e2 = cv2.getTickCount()\n",
    "    time = (e2 - e1)/ cv2.getTickFrequency()\n",
    "    return time\n",
    "\n",
    "benchmarkfiltering(False), benchmarkfiltering(True)"
   ]
  },
  {
   "cell_type": "code",
   "execution_count": 5,
   "metadata": {},
   "outputs": [
    {
     "data": {
      "text/plain": [
       "True"
      ]
     },
     "execution_count": 5,
     "metadata": {},
     "output_type": "execute_result"
    }
   ],
   "source": []
  },
  {
   "cell_type": "code",
   "execution_count": 9,
   "metadata": {},
   "outputs": [
    {
     "data": {
      "text/plain": [
       "'str s'"
      ]
     },
     "execution_count": 9,
     "metadata": {},
     "output_type": "execute_result"
    }
   ],
   "source": []
  },
  {
   "cell_type": "code",
   "execution_count": null,
   "metadata": {},
   "outputs": [],
   "source": []
  }
 ],
 "metadata": {
  "kernelspec": {
   "display_name": "Python [conda env:anaconda]",
   "language": "python",
   "name": "conda-env-anaconda-py"
  },
  "language_info": {
   "codemirror_mode": {
    "name": "ipython",
    "version": 3
   },
   "file_extension": ".py",
   "mimetype": "text/x-python",
   "name": "python",
   "nbconvert_exporter": "python",
   "pygments_lexer": "ipython3",
   "version": "3.7.2"
  }
 },
 "nbformat": 4,
 "nbformat_minor": 2
}
